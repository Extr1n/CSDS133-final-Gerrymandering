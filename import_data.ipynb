{
 "cells": [
  {
   "cell_type": "code",
   "execution_count": null,
   "metadata": {},
   "outputs": [],
   "source": [
    "####################\n",
    "### Dependencies ###\n",
    "####################\n",
    "\n",
    "import requests as rq\n",
    "from dotenv import load_dotenv\n",
    "import os\n",
    "import json\n",
    "import pandas as pd\n",
    "from io import StringIO\n",
    "from IPython.display import display\n",
    "import matplotlib.pyplot as plt\n",
    "from bs4 import BeautifulSoup as bs\n",
    "import sqlite3 as sql\n",
    "import psycopg as pg\n",
    "from dotenv import load_dotenv\n",
    "import asyncio\n",
    "import nest_asyncio"
   ]
  },
  {
   "cell_type": "code",
   "execution_count": null,
   "metadata": {},
   "outputs": [],
   "source": [
    "#####################\n",
    "### General Setup ###\n",
    "#####################\n",
    "\n",
    "nest_asyncio.apply()\n",
    "load_dotenv()"
   ]
  },
  {
   "cell_type": "code",
   "execution_count": null,
   "metadata": {},
   "outputs": [],
   "source": [
    "###########################\n",
    "### Setup PostgreSQL DB ###\n",
    "###########################\n",
    "\n",
    "# Make a connection to the database\n",
    "activateCon = lambda : pg.Connection.connect(os.getenv(\"DB_URI\"), cursor_factory=pg.ClientCursor)\n",
    "con = activateCon()\n",
    "cur = con.cursor()\n",
    "\n",
    "# Initialize transformed tables AFTER IMPORTING THE GEOJSON FILE\n",
    "cur.execute('''\n",
    "    CREATE EXTENSION postgis;\n",
    "\n",
    "    CREATE TABLE jerryTransform AS\n",
    "    SELECT\n",
    "        ogc_fid AS id,\n",
    "        ST_CollectionExtract(ST_MakeValid(ST_GeomFromWKB(wkb_geometry))) AS geo,\n",
    "        substring(geoid from 1 for 2)::integer AS state,\n",
    "        substring(geoid from 3 for 3)::integer AS county,\n",
    "        votes_dem AS dem,\n",
    "        votes_rep AS rep,\n",
    "        votes_total AS tot\n",
    "    FROM jerry;\n",
    "''')\n",
    "con.commit()\n",
    "con.close()"
   ]
  },
  {
   "cell_type": "code",
   "execution_count": null,
   "metadata": {},
   "outputs": [],
   "source": [
    "con = activateCon()\n",
    "cur = con.cursor()\n",
    "\n",
    "cur.execute('''\n",
    "    create table trans2 as\n",
    "    select *, ST_ClusterKMeans(\n",
    "            ST_Force4D(\n",
    "                ST_Force3DZ(ST_GeneratePoints(geo, 1, (100000*random()+1)::int), 0.15*random()),\n",
    "                mvalue => 100000*random() -- set clustering to be weighed by population\n",
    "            ),\n",
    "            880\n",
    "        ) over () as cluster1\n",
    "    from jerryTransform\n",
    "    where state = 39;\n",
    "''')"
   ]
  }
 ],
 "metadata": {
  "language_info": {
   "name": "python"
  }
 },
 "nbformat": 4,
 "nbformat_minor": 2
}
