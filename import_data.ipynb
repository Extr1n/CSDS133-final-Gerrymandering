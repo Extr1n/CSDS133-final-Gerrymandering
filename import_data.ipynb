{
 "cells": [
  {
   "cell_type": "code",
   "execution_count": 1,
   "metadata": {},
   "outputs": [],
   "source": [
    "####################\n",
    "### Dependencies ###\n",
    "####################\n",
    "\n",
    "import requests as rq\n",
    "from dotenv import load_dotenv\n",
    "import os\n",
    "import json\n",
    "import pandas as pd\n",
    "from io import StringIO\n",
    "from IPython.display import display\n",
    "import matplotlib.pyplot as plt\n",
    "from bs4 import BeautifulSoup as bs\n",
    "import sqlite3 as sql\n",
    "import psycopg as pg\n",
    "import asyncio\n",
    "import nest_asyncio\n",
    "from scipy.stats import norm\n",
    "import numpy as np\n",
    "import subprocess"
   ]
  },
  {
   "cell_type": "code",
   "execution_count": 2,
   "metadata": {},
   "outputs": [
    {
     "data": {
      "text/plain": [
       "True"
      ]
     },
     "execution_count": 2,
     "metadata": {},
     "output_type": "execute_result"
    }
   ],
   "source": [
    "#####################\n",
    "### General Setup ###\n",
    "#####################\n",
    "\n",
    "nest_asyncio.apply()\n",
    "load_dotenv()"
   ]
  },
  {
   "cell_type": "code",
   "execution_count": 11,
   "metadata": {},
   "outputs": [
    {
     "data": {
      "text/plain": [
       "0"
      ]
     },
     "execution_count": 11,
     "metadata": {},
     "output_type": "execute_result"
    }
   ],
   "source": [
    "#################################\n",
    "### Import data into Postgres ###\n",
    "#################################\n",
    "\n",
    "import_file = \"/home/tev/Documents/precincts-with-results.geojson\"\n",
    "command = \"/nix/store/v2qqya4p0fy042a260jq1lgbzvim4wpc-gdal-3.9.2/bin/ogr2ogr\"\n",
    "POSTGRES_DB = os.getenv(\"POSTGRES_DB\")\n",
    "POSTGRES_USER = os.getenv(\"POSTGRES_USER\")\n",
    "POSTGRES_PASSWORD = os.getenv(\"POSTGRES_PASSWORD\")\n",
    "POSTGRES_ENDPOINT = os.getenv(\"POSTGRES_ENDPOINT\")\n",
    "r = subprocess.run([command, \"-f\", \"PostgreSQL\", f\"PG:host={POSTGRES_ENDPOINT} dbname={POSTGRES_DB} user={POSTGRES_USER} password={POSTGRES_PASSWORD}\", import_file, \"-nln\", POSTGRES_DB, \"-nlt\", \"PROMOTE_TO_MULTI\"])\n",
    "r.returncode"
   ]
  },
  {
   "cell_type": "code",
   "execution_count": 3,
   "metadata": {},
   "outputs": [],
   "source": [
    "##################################\n",
    "### Setup PostgreSQL Constants ###\n",
    "##################################\n",
    "\n",
    "# Make a connection to the database\n",
    "activateCon = lambda : pg.Connection.connect(os.getenv(\"DB_URI\"), cursor_factory=pg.ClientCursor)\n",
    "con = activateCon()\n",
    "cur = con.cursor()"
   ]
  },
  {
   "cell_type": "code",
   "execution_count": 12,
   "metadata": {},
   "outputs": [],
   "source": [
    "###########################\n",
    "### Setup PostgreSQL DB ###\n",
    "###########################\n",
    "\n",
    "# Initialize transformed tables AFTER IMPORTING THE GEOJSON FILE\n",
    "cur.execute('''\n",
    "    CREATE TABLE transformed AS\n",
    "    SELECT\n",
    "        ogc_fid AS id,\n",
    "        ST_CollectionExtract(ST_MakeValid(ST_GeomFromWKB(wkb_geometry))) AS geo,\n",
    "        substring(geoid from 1 for 2)::INT AS state,\n",
    "        substring(geoid from 3 for 3)::INT AS county,\n",
    "        votes_dem AS dem,\n",
    "        votes_rep AS rep,\n",
    "        votes_total AS total\n",
    "    from jerry;\n",
    "\n",
    "    INSERT INTO meta (state, type, level)\n",
    "        SELECT state, 0, 0\n",
    "        FROM transformed\n",
    "        GROUP BY state;\n",
    "\n",
    "    INSERT INTO groups (runid, geo, dem, rep, total)\n",
    "        SELECT m.runid, t.geo, COALESCE(t.dem, 0), COALESCE(t.rep, 0), COALESCE(t.total, 0)\n",
    "        FROM transformed AS t\n",
    "        JOIN meta AS m ON t.state = m.state;\n",
    "''')\n",
    "con.commit()\n",
    "con.close()"
   ]
  },
  {
   "cell_type": "code",
   "execution_count": 4,
   "metadata": {},
   "outputs": [
    {
     "data": {
      "text/plain": [
       "[(1, 44, 0, None, 0, None),\n",
       " (2, 11, 0, None, 0, None),\n",
       " (3, 42, 0, None, 0, None),\n",
       " (4, 40, 0, None, 0, None),\n",
       " (5, 9, 0, None, 0, None),\n",
       " (6, 15, 0, None, 0, None),\n",
       " (7, 26, 0, None, 0, None),\n",
       " (8, 48, 0, None, 0, None),\n",
       " (9, 19, 0, None, 0, None),\n",
       " (10, 30, 0, None, 0, None),\n",
       " (11, 21, 0, None, 0, None),\n",
       " (12, 17, 0, None, 0, None),\n",
       " (13, 37, 0, None, 0, None),\n",
       " (14, 28, 0, None, 0, None),\n",
       " (15, 5, 0, None, 0, None),\n",
       " (16, 56, 0, None, 0, None),\n",
       " (17, 29, 0, None, 0, None),\n",
       " (18, 54, 0, None, 0, None),\n",
       " (19, 4, 0, None, 0, None),\n",
       " (20, 34, 0, None, 0, None),\n",
       " (21, 10, 0, None, 0, None),\n",
       " (22, 35, 0, None, 0, None),\n",
       " (23, 45, 0, None, 0, None),\n",
       " (24, 6, 0, None, 0, None),\n",
       " (25, 39, 0, None, 0, None),\n",
       " (26, 36, 0, None, 0, None),\n",
       " (27, 31, 0, None, 0, None),\n",
       " (28, 50, 0, None, 0, None),\n",
       " (29, 13, 0, None, 0, None),\n",
       " (30, 16, 0, None, 0, None),\n",
       " (31, 41, 0, None, 0, None),\n",
       " (32, 46, 0, None, 0, None),\n",
       " (33, 32, 0, None, 0, None),\n",
       " (34, 53, 0, None, 0, None),\n",
       " (35, 38, 0, None, 0, None),\n",
       " (36, 12, 0, None, 0, None),\n",
       " (37, 24, 0, None, 0, None),\n",
       " (38, 25, 0, None, 0, None),\n",
       " (39, 49, 0, None, 0, None),\n",
       " (40, 47, 0, None, 0, None),\n",
       " (41, 20, 0, None, 0, None),\n",
       " (42, 33, 0, None, 0, None),\n",
       " (43, 18, 0, None, 0, None),\n",
       " (44, 55, 0, None, 0, None),\n",
       " (45, 27, 0, None, 0, None),\n",
       " (46, 23, 0, None, 0, None),\n",
       " (47, 8, 0, None, 0, None)]"
      ]
     },
     "execution_count": 4,
     "metadata": {},
     "output_type": "execute_result"
    }
   ],
   "source": [
    "con = activateCon()\n",
    "cur = con.cursor()\n",
    "\n",
    "cur.execute('''\n",
    "    SELECT * FROM meta;\n",
    "''').fetchall()\n",
    "\n"
   ]
  },
  {
   "cell_type": "code",
   "execution_count": 35,
   "metadata": {},
   "outputs": [],
   "source": [
    "loop = asyncio.get_event_loop()\n",
    "\n",
    "# Define asynchronous function decorator to allow for asynchronous execution within the loop\n",
    "def asyn(f):\n",
    "    global loop\n",
    "    def wrapped(*args, **kwargs):\n",
    "        global loop\n",
    "        return loop.run_in_executor(None, f, *args, **kwargs)\n",
    "    return wrapped\n",
    "\n",
    "def aawait(f):\n",
    "    global loop\n",
    "    return loop.run_until_complete(f)"
   ]
  },
  {
   "cell_type": "code",
   "execution_count": 43,
   "metadata": {},
   "outputs": [
    {
     "name": "stdout",
     "output_type": "stream",
     "text": [
      "Working... [False, False, False, False, False, False, False, False]\n",
      "Working... [False, False, False, False, False, False, False, False]\n",
      "Working... [False, False, False, False, False, False, False, False]\n"
     ]
    }
   ],
   "source": [
    "\n",
    "\n",
    "runs = {\n",
    "    \"ohio\": [\"{{880, 30}, {88, 30}}\", 25], # Ohio 30x30 trial\n",
    "    \"california\": [\"{{500, 30}, {58, 30}}\", 24], # California 30x30 trial\n",
    "    \"wisconsin\": [\"{{700, 30}, {72, 30}}\", 44], # Wisconsin 30x30 trial\n",
    "    \"penns\": [\"{{700, 30}, {67, 30}}\", 3], # Penns 30x30 trial\n",
    "    \"nevada\": [\"{{200, 30}, {17, 30}}\", 33], # Nevada 30x30 trial\n",
    "    \"arizona\": [\"{{150, 30}, {15, 30}}\", 19], # Arizona 30x30 trial\n",
    "    \"illinois\": [\"{{1000, 30}, {102, 30}}\", 12], # Illinois 30x30 trial\n",
    "    \"texas\": [\"{{1000, 30}, {254, 30}}\", 8], # Texas 30x30 trial\n",
    "    \"kansas\": [\"{{700, 30}, {105, 30}}\", 41] # Kansas 30x30 trial\n",
    "}\n",
    "\n",
    "@asyn\n",
    "def do_state(runid):\n",
    "    global runs\n",
    "    con = activateCon()\n",
    "    cur = con.cursor()\n",
    "    id = cur.execute(\"select create_layers(%(layers)s::INT[][], %(runid)s);\", {'layers': runs[runid][0], 'runid': runs[runid][1]}).fetchall()[0][0]\n",
    "    con.commit()\n",
    "    con.close()\n",
    "    print(id)\n",
    "\n",
    "\n",
    "tasks = [do_state(state) for state in [\"california\", \"wisconsin\", \"penns\", \"nevada\", \"arizona\", \"illinois\", \"texas\", \"kansas\"]]\n",
    "while True:\n",
    "    print(f\"Working... {[i.done() for i in tasks]}\")\n",
    "    if all([i.done() for i in tasks]):\n",
    "        break\n",
    "    aawait(asyncio.sleep(2))"
   ]
  },
  {
   "cell_type": "code",
   "execution_count": 24,
   "metadata": {},
   "outputs": [],
   "source": [
    "con.rollback()"
   ]
  },
  {
   "cell_type": "code",
   "execution_count": 17,
   "metadata": {},
   "outputs": [
    {
     "name": "stdout",
     "output_type": "stream",
     "text": [
      "[([[1, 2], [3, 4], [5, 6]],)]\n"
     ]
    }
   ],
   "source": [
    "con = activateCon()\n",
    "cur = con.cursor()\n",
    "\n",
    "d = cur.execute(\"select %(arr)s::INT[][];\", {'arr': \"{{1, 2}, {3, 4}, {5, 6}}\"}).fetchall()\n",
    "print(d)\n",
    "\n",
    "con.commit()\n",
    "con.close()"
   ]
  },
  {
   "cell_type": "code",
   "execution_count": 10,
   "metadata": {},
   "outputs": [
    {
     "name": "stdout",
     "output_type": "stream",
     "text": [
      "     runid  resid  dem  rep  total\n",
      "0       78      1   11   78     89\n",
      "1       79      1   12   77     89\n",
      "2       80      1   11   78     89\n",
      "3       81      1   10   79     89\n",
      "4       82      1    9   80     89\n",
      "..     ...    ...  ...  ...    ...\n",
      "895    973      1   10   79     89\n",
      "896    974      1   10   79     89\n",
      "897    975      1   11   78     89\n",
      "898    976      1   10   79     89\n",
      "899    977      1   10   79     89\n",
      "\n",
      "[900 rows x 5 columns]\n",
      "0       78\n",
      "1       79\n",
      "2       80\n",
      "3       81\n",
      "4       82\n",
      "      ... \n",
      "895    973\n",
      "896    974\n",
      "897    975\n",
      "898    976\n",
      "899    977\n",
      "Name: runid, Length: 900, dtype: int64\n"
     ]
    }
   ],
   "source": [
    "con = activateCon()\n",
    "cur = con.cursor()\n",
    "\n",
    "id = 1\n",
    "data = pd.DataFrame(cur.execute(\"select * from results where resid = %(id)s;\", {'id': id}).fetchall())\n",
    "data = data.set_axis(['runid', 'resid', 'dem', 'rep', 'total'], axis=1)\n",
    "print(data)\n",
    "\n",
    "con.commit()\n",
    "con.close()"
   ]
  },
  {
   "cell_type": "code",
   "execution_count": 26,
   "metadata": {},
   "outputs": [
    {
     "name": "stdout",
     "output_type": "stream",
     "text": [
      "Red_mean, Red_std:  78.65666666666667 1.4058949465260226\n",
      "Blue_mean, Blue_std:  10.343333333333334 1.4058949465260226\n"
     ]
    },
    {
     "data": {
      "image/png": "[encoded data removed]",
      "text/plain": [
       "<Figure size 640x480 with 1 Axes>"
      ]
     },
     "metadata": {},
     "output_type": "display_data"
    }
   ],
   "source": [
    "x_axis = np.arange(0, 100, 0.1)\n",
    "bins = 20\n",
    "\n",
    "blue_mean = data[\"dem\"].mean()\n",
    "blue_std = data[\"dem\"].std()\n",
    "actual_blue= 7    # placeholder\n",
    "\n",
    "red_mean = data[\"rep\"].mean()\n",
    "red_std = data[\"rep\"].std()\n",
    "actual_red= 81    # placeholder\n",
    "\n",
    "print(\"Red_mean, Red_std: \", red_mean, red_std)\n",
    "print(\"Blue_mean, Blue_std: \", blue_mean, blue_std)\n",
    "\n",
    "#combined plot\n",
    "plt.hist(data[\"dem\"], bins=bins, color='b', density=True, alpha=0.3, edgecolor='black')\n",
    "plt.hist(data[\"rep\"], bins=bins, color='r', density=True, alpha=0.3, edgecolor='black')\n",
    "plt.plot(x_axis, norm.pdf(x_axis, loc=data[\"dem\"].mean(), scale=data[\"dem\"].std()), color='b', linewidth=1)\n",
    "plt.axvline(x=actual_blue, color='b', linestyle='dashed', linewidth=1)\n",
    "plt.plot(x_axis, norm.pdf(x_axis, loc=data[\"rep\"].mean(), scale=data[\"rep\"].std()), color='r', linewidth=1)\n",
    "plt.axvline(x=actual_red, color='r', linestyle='dashed', linewidth=1)\n",
    "plt.title(\"Ohio County Distributions\")\n",
    "plt.xlabel(\"Number of Counties\")\n",
    "plt.ylabel(\"Probability\")\n",
    "plt.legend([\"Dem Norm Dist\", \"Dem Actual\", \"Rep Norm Dist\", \"Rep Actual\", \"Dem Histogram\", \"Rep Histogram\"], loc=\"upper center\")\n",
    "plt.show()"
   ]
  }
 ],
 "metadata": {
  "kernelspec": {
   "display_name": "Python 3",
   "language": "python",
   "name": "python3"
  },
  "language_info": {
   "codemirror_mode": {
    "name": "ipython",
    "version": 3
   },
   "file_extension": ".py",
   "mimetype": "text/x-python",
   "name": "python",
   "nbconvert_exporter": "python",
   "pygments_lexer": "ipython3",
   "version": "3.12.5"
  }
 },
 "nbformat": 4,
 "nbformat_minor": 2
}
